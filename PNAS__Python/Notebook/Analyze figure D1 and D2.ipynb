{
 "cells": [
  {
   "cell_type": "code",
   "execution_count": 1,
   "metadata": {
    "collapsed": false
   },
   "outputs": [],
   "source": [
    "from pylab import *\n",
    "from scipy import *\n",
    "from scipy import stats\n",
    "from scipy.optimize import leastsq\n",
    "import pandas as pd\n",
    "from brian2 import *\n",
    "\n",
    "dataE2 = pd.read_excel('/Users/sarahgoethals/Dropbox/Project-2_RBrette/Data Fig4/panelE2_data.xlsx')\n",
    "\n",
    "#data330 = pd.read_excel('/Users/sarahgoethals/Dropbox/Spike initiation/perso/Paper Kole/figureD2_330.xlsx')\n",
    "#data370 = pd.read_excel('/Users/sarahgoethals/Dropbox/Spike initiation/perso/Paper Kole/figureD2_370.xlsx')\n",
    "#data400 = pd.read_excel('/Users/sarahgoethals/Dropbox/Spike initiation/perso/Paper Kole/figureD2_400.xlsx')\n",
    "\n",
    "#data330 = array(data330)\n",
    "#diam330 = data330[:,0]\n",
    "#data370 = array(data370)\n",
    "#diam370 = data370[:,0]\n",
    "#data400 = array(data400)\n",
    "#diam400 = data400[:,0]\n",
    "\n",
    "dataE2 = array(dataE2)\n",
    "diam350 = dataE2[:,0]\n"
   ]
  },
  {
   "cell_type": "code",
   "execution_count": 2,
   "metadata": {
    "collapsed": false
   },
   "outputs": [],
   "source": [
    "onset = linspace(5.,40.,36)"
   ]
  },
  {
   "cell_type": "code",
   "execution_count": 3,
   "metadata": {
    "collapsed": false
   },
   "outputs": [
    {
     "name": "stdout",
     "output_type": "stream",
     "text": [
      "218.909693881 -4.05495842969 0.985035987465 6.56873379172\n"
     ]
    }
   ],
   "source": [
    "# figure D2\n",
    "\n",
    "slope350, intercept350, r_value350, p_value350, std_err350 = stats.linregress(diam350**(-1.5),onset)\n",
    "\n",
    "print slope350,intercept350,r_value350,std_err350\n",
    "\n",
    "x=linspace(0,0.2,100)\n",
    "plot(diam350**(-1.5),onset, 'k.', label='data 350')\n",
    "plot(x,intercept350+slope350*x,'k')\n",
    "xlabel('d^(-1.5)')\n",
    "ylabel('Onset')\n",
    "\n",
    "show()"
   ]
  },
  {
   "cell_type": "raw",
   "metadata": {
    "collapsed": false
   },
   "source": [
    "# Creating a DataFrame\n",
    "\n",
    "import pandas as pd\n",
    "\n",
    "dictio = {'Dendrite diameter (um)': diam350,\n",
    "         'Dendrite diameter^-1,5 ': diam350**(-1.5),\n",
    "         'AIS onset (um)': onset}\n",
    "\n",
    "df = pd.DataFrame(dictio)\n",
    "\n",
    "# Create a Pandas Excel writer using XlsxWriter as the engine.\n",
    "writer = pd.ExcelWriter(\"/Users/sarahgoethals/Dropbox/Spike initiation/perso/Paper Kole/figureD1_final.xlsx\", engine='xlsxwriter')\n",
    "df.to_excel(writer, sheet_name='figure D1')\n",
    "\n",
    "# Close the Pandas Excel writer and output the Excel file.\n",
    "writer.save()"
   ]
  },
  {
   "cell_type": "code",
   "execution_count": 6,
   "metadata": {
    "collapsed": false
   },
   "outputs": [
    {
     "name": "stdout",
     "output_type": "stream",
     "text": [
      "-1.21528437506 8.16653530481 8.63915675527\n"
     ]
    }
   ],
   "source": [
    "# figure D1: diameter vs dv/dt\n",
    "\n",
    "#_,d,dV = loadtxt('/Users/sarahgoethals/Dropbox/Project-2_RBrette/Data Fig4/panelE2_DendDiam.csv').T\n",
    "\n",
    "Dend_Diam = pd.read_excel('/Users/sarahgoethals/Dropbox/Project-2_RBrette/Data Fig4/panelE1_data.xlsx')\n",
    "\n",
    "Dend_Diam = array(Dend_Diam)\n",
    "d = Dend_Diam[:,0]\n",
    "dV = Dend_Diam[:,1]\n",
    "\n",
    "slope, intercept, r_value, p_value, std_err = stats.linregress(log(d),log(dV))\n",
    "intercept32 = mean(log(dV)+1.5*log(d))\n",
    "\n",
    "print slope, intercept, intercept32\n",
    "\n",
    "figure()\n",
    "loglog(d,dV,'k.', label='data') # measured values\n",
    "plot(d,exp(log(d)*slope+intercept),'k', label='fit') # fit\n",
    "plot(d,exp(-log(d)*1.5+intercept32),'r', label='prediction') # prediction in -1,5\n",
    "xlabel('diameter')\n",
    "ylabel('dv/dt')\n",
    "legend(loc='best')\n",
    "\n",
    "show()"
   ]
  },
  {
   "cell_type": "code",
   "execution_count": 13,
   "metadata": {
    "collapsed": true
   },
   "outputs": [],
   "source": [
    "# Creating a DataFrame\n",
    "\n",
    "import pandas as pd\n",
    "\n",
    "dictio = {'Dendrite diameter (um)': d,\n",
    "         'dV/dt (mV/ms)': dV,\n",
    "         'log(Dendrite diameter) (um)': log(d),\n",
    "         'log(dV/dt) (mV/ms)': log(dV),\n",
    "         'Fit': exp(log(d)*slope+intercept),\n",
    "         'Prediction':exp(-log(d)*1.5+intercept32)}\n",
    "\n",
    "df = pd.DataFrame(dictio)\n",
    "\n",
    "# Create a Pandas Excel writer using XlsxWriter as the engine.\n",
    "writer = pd.ExcelWriter(\"/Users/sarahgoethals/Dropbox/Project-2_RBrette/Data Fig4/panelE2_DendDiam.xlsx\", engine='xlsxwriter')\n",
    "df.to_excel(writer, sheet_name='figure D1')\n",
    "\n",
    "# Close the Pandas Excel writer and output the Excel file.\n",
    "writer.save()"
   ]
  },
  {
   "cell_type": "code",
   "execution_count": null,
   "metadata": {
    "collapsed": true
   },
   "outputs": [],
   "source": []
  }
 ],
 "metadata": {
  "kernelspec": {
   "display_name": "Python [default]",
   "language": "python",
   "name": "python2"
  },
  "language_info": {
   "codemirror_mode": {
    "name": "ipython",
    "version": 2
   },
   "file_extension": ".py",
   "mimetype": "text/x-python",
   "name": "python",
   "nbconvert_exporter": "python",
   "pygments_lexer": "ipython2",
   "version": "2.7.12"
  }
 },
 "nbformat": 4,
 "nbformat_minor": 0
}
