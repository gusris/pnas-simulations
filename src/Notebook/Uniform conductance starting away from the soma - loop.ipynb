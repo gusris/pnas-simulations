{
 "cells": [
  {
   "cell_type": "code",
   "execution_count": 1,
   "metadata": {
    "collapsed": false
   },
   "outputs": [
    {
     "name": "stdout",
     "output_type": "stream",
     "text": [
      "5. um\n"
     ]
    },
    {
     "name": "stderr",
     "output_type": "stream",
     "text": [
      "WARNING  brian2.groups.group.Group.resolve.resolution_conflict: Variable gNa is present in the namespace but is also an internal variable of spatialneuron, the internal variable will be used.\n"
     ]
    },
    {
     "name": "stdout",
     "output_type": "stream",
     "text": [
      "Starting simulation for duration 300. ms\n",
      "300. ms (100%) simulated in 3s\n",
      "1.00676783251\n",
      "5. um\n"
     ]
    },
    {
     "name": "stderr",
     "output_type": "stream",
     "text": [
      "WARNING  brian2.groups.group.Group.resolve.resolution_conflict: Variable gNa is present in the namespace but is also an internal variable of spatialneuron_1, the internal variable will be used.\n"
     ]
    },
    {
     "name": "stdout",
     "output_type": "stream",
     "text": [
      "Starting simulation for duration 300. ms\n",
      "300. ms (100%) simulated in 3s\n",
      "1.00063850673\n",
      "5. um\n",
      "Starting simulation for duration 300. ms\n",
      "300. ms (100%) simulated in 3s\n",
      "1.00010455403\n",
      "5. um\n",
      "Starting simulation for duration 300. ms\n",
      "300. ms (100%) simulated in 3s\n",
      "1.00002274782\n",
      "5. um\n",
      "Starting simulation for duration 300. ms\n",
      "300. ms (100%) simulated in 3s\n",
      "1.00000593424\n",
      "5. um\n",
      "Starting simulation for duration 300. ms\n",
      "300. ms (100%) simulated in 3s\n",
      "1.00000176106\n"
     ]
    },
    {
     "data": {
      "image/png": "[encoded data removed]",
      "text/plain": [
       "<matplotlib.figure.Figure at 0x108d77710>"
      ]
     },
     "metadata": {},
     "output_type": "display_data"
    }
   ],
   "source": [
    "\"\"\"\n",
    "Cylindrical axon model voltage clamped at on\n",
    "\n",
    "\"\"\"\n",
    "\n",
    "\n",
    "\n",
    "%matplotlib inline\n",
    "\n",
    "from brian2 import *\n",
    "import pandas as pd\n",
    "import gc\n",
    "\n",
    "defaultclock.dt = 0.015*ms\n",
    "\n",
    "# Standard parameters\n",
    "# Passive parameters\n",
    "EL = -80*mV\n",
    "Cm = 0.9*uF/cm**2\n",
    "gL = 1.*(siemens/meter**2)\n",
    "Ri = 150*ohm*cm\n",
    "\n",
    "# Na channels\n",
    "ENa = 60.*mV\n",
    "ka = 6.*mV\n",
    "va = -30.*mV\n",
    "#gNa = 3000.*(siemens/meter**2) \n",
    "taum = 0.05*ms\n",
    "\n",
    "# Morphology\n",
    "length = 300.*um\n",
    "diam = 1.5*um\n",
    "\n",
    "# Na channels\n",
    "AIS_length = 45.*um\n",
    "Na_start = 5.*um\n",
    "\n",
    "# Parameter ranges for loops\n",
    "#diams = [0.5,1.,1.5,2.,2.5,3.,3.5]*um\n",
    "#AIS_lengths = [30.,35.,40.,45.,50.,55.,60.]*um\n",
    "#Na_starts = [0.,5.,10.,15.,20.,25.,30.,35.]*um\n",
    "gNas = [1000.,2000.,3000.,4000.,5000.,6000.]*(siemens/meter**2) \n",
    "#gLs = [0.7,0.8,0.9,1.,1.1,1.2,1.3]*(siemens/meter**2)\n",
    "\n",
    "thresholds = []\n",
    "I_thres_preds  = []\n",
    "I_thres_sims = []\n",
    "I_above_preds = []\n",
    "I_above_preds2 = []\n",
    "I_above_sims = []\n",
    "\n",
    "for gNa in gNas:\n",
    "    print Na_start\n",
    "    Na_end = Na_start+AIS_length\n",
    "    axon = Cylinder(diameter=diam, length=length, n=300)\n",
    "    \n",
    "    duration = 300*ms\n",
    "    \n",
    "    # Channels\n",
    "    eqs='''\n",
    "    Im = gL*(EL - v) + gclamp*(vc - v) + gNa*m*(ENa - v) : amp/meter**2\n",
    "    dm/dt = (minf - m) / taum: 1  # simplified Na channel\n",
    "    minf = 1 / (1 + exp((va - v) / ka)) : 1\n",
    "    gclamp : siemens/meter**2\n",
    "    gNa : siemens/meter**2\n",
    "    vc = EL + 50*mV * t / duration : volt (shared)  # Voltage clamp with a ramping voltage command\n",
    "    '''\n",
    "\n",
    "    neuron = SpatialNeuron(morphology=axon, model=eqs, Cm=Cm, Ri=Ri,\n",
    "                       method=\"exponential_euler\")\n",
    "    \n",
    "    # AIS definition\n",
    "    initial_segment = axon[Na_start:Na_end]\n",
    "    neuron.gNa[initial_segment] = gNa\n",
    "    \n",
    "    # Initialisation\n",
    "    neuron.v = EL\n",
    "    neuron.gclamp[0] = gL*5000000\n",
    "\n",
    "    # Monitors\n",
    "    mon = StateMonitor(neuron, ('v','m'), record=True)\n",
    "    \n",
    "    run(duration, report='text')\n",
    "\n",
    "    # Theory\n",
    "    gdensity = (4.*Ri/diam)*gNa             # meter**-2\n",
    "    ra = (4.*Ri)/(pi*diam**2)               # ohm/cm\n",
    "    supp = 1./(sqrt(gdensity)*tanh(sqrt(gdensity)*AIS_length))    # The non-physical distance term in V'(0)\n",
    "\n",
    "    def dv_na_start(y):\n",
    "        return (ENa-y)*(1./(Na_start+supp))\n",
    "    def I_peak(y):\n",
    "        return dv_na_start(y)/ra\n",
    "    \n",
    "    # Other formulation of the theory\n",
    "    alpha = 1./(tanh(sqrt((4.*Ri*gNa)/diam)*AIS_length))\n",
    "    cste1 = 0.5*sqrt(diam/(gNa*Ri))*alpha\n",
    "    print alpha\n",
    "\n",
    "    def I_peak_k(y):\n",
    "        return ((ENa-y)*((pi*diam**2)/(4*Ri)))/(Na_start+cste1)\n",
    "    \n",
    "    dvdx = diff(mon.v,axis=0)/(1*um)\n",
    "    vs_range1 = linspace(-75, -55, 21)*mV\n",
    "    x = neuron.distance\n",
    "    dt_per_volt = len(mon.t) / (50*mV)\n",
    "    \n",
    "    for vs in vs_range1:\n",
    "        # Rough threshold\n",
    "        thres_approx = [vs for vs in vs_range1 if mon.m[Na_end/um-1, int(dt_per_volt * (vs - EL))] >= 0.5][0]\n",
    "    \n",
    "    # Precise threshold\n",
    "    dv_per_dt  = (50.*mV)/(duration/defaultclock.dt)\n",
    "    dv_in_1mV = (1.*mV)/dv_per_dt\n",
    "    vs_range2 = linspace(thres_approx/mV-2., thres_approx/mV+2., 4*dv_in_1mV)*mV\n",
    "    thres = [vs for vs in vs_range2 if mon.m[Na_end/um-1, int(dt_per_volt * (vs - EL))] >= 0.5][0]\n",
    "    \n",
    "    if Na_start==0*um:\n",
    "        I_thres_sim = (dvdx[Na_start/um,int(dt_per_volt * (thres - EL))]/ra)/namp\n",
    "        I_above_sim = (dvdx[Na_start/um,int(dt_per_volt * (thres+0.2*mV - EL))]/ra)/namp\n",
    "    else:\n",
    "        I_thres_sim = (dvdx[Na_start/um-1,int(dt_per_volt * (thres - EL))]/ra)/namp\n",
    "        I_above_sim = (dvdx[Na_start/um-1,int(dt_per_volt * (thres+0.2*mV - EL))]/ra)/namp\n",
    "    \n",
    "    I_thres_pred = I_peak(thres)/namp\n",
    "    I_above_pred = I_peak(thres+0.2*mV)/namp\n",
    "    I_above_pred2 = I_peak_k(thres+0.2*mV)/namp\n",
    "    \n",
    "    figure(1)\n",
    "    plot((dvdx[:,int(dt_per_volt * (thres+0.2*mV - EL))]/ra)/namp, label='%s' %AIS_length)\n",
    "    xlabel('Location (um)')\n",
    "    ylabel('Axonal current (nA)')\n",
    "    legend(loc='best')\n",
    "    xlim(0,80)\n",
    "    \n",
    "    thresholds.append(thres)\n",
    "    I_thres_preds.append(I_thres_pred)\n",
    "    I_thres_sims.append(I_thres_sim)\n",
    "    I_above_preds.append(I_above_pred)\n",
    "    I_above_preds2.append(I_above_pred2)\n",
    "    I_above_sims.append(I_above_sim)\n",
    "    \n",
    "show()"
   ]
  },
  {
   "cell_type": "code",
   "execution_count": 2,
   "metadata": {
    "collapsed": false
   },
   "outputs": [
    {
     "data": {
      "text/plain": [
       "[6.470512874842966,\n",
       " 8.998542492037393,\n",
       " 10.626796773926278,\n",
       " 11.788457039664781,\n",
       " 12.67506617884729,\n",
       " 13.386850298803791]"
      ]
     },
     "execution_count": 2,
     "metadata": {},
     "output_type": "execute_result"
    }
   ],
   "source": [
    "I_above_sims"
   ]
  },
  {
   "cell_type": "code",
   "execution_count": 3,
   "metadata": {
    "collapsed": false
   },
   "outputs": [
    {
     "data": {
      "text/plain": [
       "[6.778751582504581,\n",
       " 9.094111105968656,\n",
       " 10.640794496798847,\n",
       " 11.822091547003247,\n",
       " 12.782093013565603,\n",
       " 13.59225608480604]"
      ]
     },
     "execution_count": 3,
     "metadata": {},
     "output_type": "execute_result"
    }
   ],
   "source": [
    "I_above_preds2"
   ]
  },
  {
   "cell_type": "raw",
   "metadata": {
    "collapsed": false
   },
   "source": [
    "# Creating a DataFrame\n",
    "\n",
    "at_threshold = {'Parameter': Na_starts/um,\n",
    "               'Current (simulation) (nA)':I_above_sims, \n",
    "               'Current (prediction) (nA)':I_above_preds}\n",
    "\n",
    "df_at_thres = pd.DataFrame(at_threshold)\n",
    "\n",
    "# Create a Pandas Excel writer using XlsxWriter as the engine.\n",
    "writer = pd.ExcelWriter(\"/Users/sarahgoethals/Dropbox/Project-2_RBrette/Data Fig4/panelD2_AISonset.xlsx\", engine='xlsxwriter')\n",
    "df_at_thres.to_excel(writer, sheet_name='AIS onset')\n",
    "\n",
    "# Close the Pandas Excel writer and output the Excel file.\n",
    "writer.save()"
   ]
  },
  {
   "cell_type": "code",
   "execution_count": 5,
   "metadata": {
    "collapsed": false
   },
   "outputs": [],
   "source": [
    "from openpyxl import load_workbook\n",
    "\n",
    "dv_start = {'Parameter': gNas/(siemens/meter**2) ,\n",
    "            'Current (simulation) (nA)':I_above_sims, \n",
    "            'Current (prediction) (nA)':I_above_preds}\n",
    "\n",
    "df_dv_start = pd.DataFrame(dv_start)\n",
    "\n",
    "book = load_workbook(\"/Users/sarahgoethals/Dropbox/Project-2_RBrette/Data Fig4/panelC2_gNa.xlsx\")\n",
    "writer = pd.ExcelWriter(\"/Users/sarahgoethals/Dropbox/Project-2_RBrette/Data Fig4/panelC2_gNa.xlsx\", engine='openpyxl') \n",
    "writer.book = book\n",
    "writer.sheets = dict((ws.title, ws) for ws in book.worksheets)\n",
    "\n",
    "df_dv_start.to_excel(writer, \"Na conductance\")\n",
    "\n",
    "writer.save()"
   ]
  },
  {
   "cell_type": "markdown",
   "metadata": {},
   "source": [
    "Axonal peak current "
   ]
  },
  {
   "cell_type": "code",
   "execution_count": 6,
   "metadata": {
    "collapsed": false
   },
   "outputs": [
    {
     "data": {
      "image/png": "[encoded data removed]",
      "text/plain": [
       "<matplotlib.figure.Figure at 0x10db3710>"
      ]
     },
     "metadata": {},
     "output_type": "display_data"
    }
   ],
   "source": [
    "%matplotlib inline\n",
    "matplotlib.rcParams['figure.figsize'] = (10, 4)\n",
    "\n",
    "plot(AIS_lengths/um , I_above_preds,  'bo-', label='prediction')\n",
    "plot(AIS_lengths/um, I_above_sims, 'go-', label='simulation')\n",
    "xlabel('AIS onset (um)', fontsize=14)\n",
    "ylabel('Axonal current (nA)', fontsize=14)\n",
    "legend(loc='best', fontsize=14)\n",
    "ylim(0,15)\n",
    "show()"
   ]
  },
  {
   "cell_type": "markdown",
   "metadata": {},
   "source": [
    "Somatic voltage threshold for spike initiation"
   ]
  },
  {
   "cell_type": "code",
   "execution_count": 19,
   "metadata": {
    "collapsed": false
   },
   "outputs": [
    {
     "data": {
      "image/png": "[encoded data removed]",
      "text/plain": [
       "<matplotlib.figure.Figure at 0x12d775ad0>"
      ]
     },
     "metadata": {},
     "output_type": "display_data"
    }
   ],
   "source": [
    "%matplotlib inline\n",
    "matplotlib.rcParams['figure.figsize'] = (10, 4)\n",
    "\n",
    "plot(gNas/(siemens/meter**2) ,thresholds/mV,  'bo-')\n",
    "xlabel('AIS onset (um)', fontsize=14)\n",
    "ylabel('Voltage threshold (mV)', fontsize=14)\n",
    "#ylim(-75,-60)\n",
    "show()"
   ]
  },
  {
   "cell_type": "code",
   "execution_count": null,
   "metadata": {
    "collapsed": true
   },
   "outputs": [],
   "source": []
  }
 ],
 "metadata": {
  "anaconda-cloud": {},
  "kernelspec": {
   "display_name": "Python [default]",
   "language": "python",
   "name": "python2"
  },
  "language_info": {
   "codemirror_mode": {
    "name": "ipython",
    "version": 2
   },
   "file_extension": ".py",
   "mimetype": "text/x-python",
   "name": "python",
   "nbconvert_exporter": "python",
   "pygments_lexer": "ipython2",
   "version": "2.7.12"
  }
 },
 "nbformat": 4,
 "nbformat_minor": 0
}
